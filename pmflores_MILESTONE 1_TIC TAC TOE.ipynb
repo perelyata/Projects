{
 "cells": [
  {
   "cell_type": "markdown",
   "id": "8df62fa7",
   "metadata": {},
   "source": [
    "1. Ask and assign game markers\n",
    "2. Ask player(s) the position to mark\n",
    "3. Update the board\n",
    "4. Display the updated board\n",
    "5. Check if there's a winner\n",
    "6. Declare the winner\n",
    "7. Ask players for another round"
   ]
  },
  {
   "cell_type": "code",
   "execution_count": null,
   "id": "43cbd665",
   "metadata": {},
   "outputs": [],
   "source": [
    "def set_markers():\n",
    "    \n",
    "    player_one = input('Player 1, choose your marker (X or O): ')\n",
    "    \n",
    "    while player_one.upper() not in ['X','O']: \n",
    "        print('Invalid Entry')\n",
    "        player_one = input('Player 1, choose your marker (X or O): ')\n",
    "        \n",
    "    if player_one.upper() == 'X':\n",
    "        players_markers = {1 : player_one.upper(), 2: 'O' }\n",
    "    \n",
    "    if player_one.upper() == 'O':\n",
    "        players_markers = {1 : player_one.upper(), 2: 'X' }\n",
    "    \n",
    "    return players_markers"
   ]
  },
  {
   "cell_type": "code",
   "execution_count": null,
   "id": "d30e5000",
   "metadata": {},
   "outputs": [],
   "source": [
    "def display_board(board):\n",
    "    print('{}--------------'.format(' '*29))\n",
    "    print('{0} Player 1: {1}'.format(' '*29,players_markers[1]))\n",
    "    print('{0} Player 2: {1}'.format(' '*29,players_markers[2]))\n",
    "    print('{}--------------'.format(' '*29))\n",
    "    \n",
    "    print('{0:9}|{0:9}|{0:9} \\t\\t {0:9}|{0:9}|{0:9}'.format(''))\n",
    "    print('{0:^9}|{1:^9}|{2:^9} \\t\\t {3:^9}|{4:^9}|{5:^9}'.format('1', '2', '3', board[0][0],board[0][1],board[0][2]))\n",
    "    print('{0:9}|{0:9}|{0:9} \\t\\t {0:9}|{0:9}|{0:9}'.format(''))\n",
    "    print('{0} \\t\\t {0}'.format('-'*29))\n",
    "    print('{0:9}|{0:9}|{0:9} \\t\\t {0:9}|{0:9}|{0:9}'.format(''))\n",
    "    print('{0:^9}|{1:^9}|{2:^9} \\t\\t {3:^9}|{4:^9}|{5:^9}'.format(4, 5, 6, board[1][0],board[1][1],board[1][2]))\n",
    "    print('{0:9}|{0:9}|{0:9} \\t\\t {0:9}|{0:9}|{0:9}'.format(''))\n",
    "    print('{0} \\t\\t {0}'.format('-'*29))\n",
    "    print('{0:9}|{0:9}|{0:9} \\t\\t {0:9}|{0:9}|{0:9}'.format(''))\n",
    "    print('{0:^9}|{1:^9}|{2:^9} \\t\\t {3:^9}|{4:^9}|{5:^9}'.format(7,8,9,board[2][0],board[2][1],board[2][2]))\n",
    "    print('{0:9}|{0:9}|{0:9} \\t\\t {0:9}|{0:9}|{0:9}'.format(''))"
   ]
  },
  {
   "cell_type": "code",
   "execution_count": null,
   "id": "e3186bdc",
   "metadata": {},
   "outputs": [],
   "source": [
    "def update_board(board, position, marker):\n",
    "    position_mapper = { 1 : (0,0) , 2 : (0,1), 3 : (0,2),\n",
    "                        4 : (1,0) , 5 : (1,1), 6 : (1,2),\n",
    "                        7 : (2,0) , 8 : (2,1), 9 : (2,2)}\n",
    "    \n",
    "    row, column = position_mapper[position]\n",
    "    board[row][column] = marker\n",
    "    \n",
    "    return board"
   ]
  },
  {
   "cell_type": "code",
   "execution_count": null,
   "id": "c50aeaa7",
   "metadata": {},
   "outputs": [],
   "source": [
    "def declare_result(player, draw = False):\n",
    "    if draw:\n",
    "        return print(\"{}THE GAME IS DRAW.\".format(' '*29))\n",
    "    else:\n",
    "        return print(\"{0}PLAYER {1} WON! \\n{2}~ CONGRATULATIONS ~\".format(' '*29,player,' '*26))"
   ]
  },
  {
   "cell_type": "code",
   "execution_count": null,
   "id": "4cafd4cf",
   "metadata": {},
   "outputs": [],
   "source": [
    "def play_again():\n",
    "    another_round = input('Would you like to play another round? [Y or N]: ')\n",
    "    \n",
    "    while another_round.upper() not in ['Y','N']:\n",
    "        print(\"Ooops! I don't understand.\")\n",
    "        another_round = input('Would you like to play another round? [Y or N]: ')\n",
    "        \n",
    "    return another_round.upper() == 'Y'"
   ]
  },
  {
   "cell_type": "code",
   "execution_count": null,
   "id": "8487b7ab",
   "metadata": {},
   "outputs": [],
   "source": [
    "def ask_position(valid_positions, current_player):\n",
    "    \n",
    "    position = input(\"Player {},Enter a position to mark [1-9]: \".format(current_player))\n",
    "    \n",
    "    while position.isdigit() == False or (position.isdigit() == True and int(position) not in valid_positions):\n",
    "        print(\"Hey, that's not a valid position!\")\n",
    "        position = input(\"Player {},Enter a position to mark [1-9]: \".format(current_player))\n",
    "        \n",
    "    return int(position), current_player, toggle_player(current_player)"
   ]
  },
  {
   "cell_type": "code",
   "execution_count": null,
   "id": "c0961ade",
   "metadata": {},
   "outputs": [],
   "source": [
    "def toggle_player(current_player):\n",
    "    return 2 if current_player == 1 else 1"
   ]
  },
  {
   "cell_type": "code",
   "execution_count": null,
   "id": "554091a5",
   "metadata": {},
   "outputs": [],
   "source": [
    "def update_valid_positions(position, valid_positions):\n",
    "    return valid_positions.remove(position)"
   ]
  },
  {
   "cell_type": "code",
   "execution_count": null,
   "id": "b677e26f",
   "metadata": {},
   "outputs": [],
   "source": [
    "import random\n",
    "\n",
    "def choose_first():\n",
    "    return random.randint(1,2)"
   ]
  },
  {
   "cell_type": "code",
   "execution_count": null,
   "id": "09ef99e2",
   "metadata": {},
   "outputs": [],
   "source": [
    "def check_board(board):\n",
    "    return (board[0][0] == board[1][1] == board[2][2] != '' or\n",
    "    board[0][2] == board[1][1] == board[2][0] != '' or \n",
    "    board[0][0] == board[0][1] == board[0][2] != '' or  \n",
    "    board[1][0] == board[1][1] == board[1][2] != '' or  \n",
    "    board[2][0] == board[2][1] == board[2][2] != '' or  \n",
    "    board[0][0] == board[1][0] == board[2][0] != '' or  \n",
    "    board[0][1] == board[1][1] == board[2][1] != '' or  \n",
    "    board[0][2] == board[1][2] == board[2][2] != '')"
   ]
  },
  {
   "cell_type": "code",
   "execution_count": null,
   "id": "ec1dcb6a",
   "metadata": {},
   "outputs": [],
   "source": [
    "from IPython.display import clear_output\n",
    "\n",
    "print('Welcome to Tic Tac Toe!')\n",
    "play_another = True\n",
    "\n",
    "while True:\n",
    "    #Initialization of variables\n",
    "    board = [['','',''],\n",
    "             ['','',''],\n",
    "             ['','','']]\n",
    "    valid_positions = [1,2,3,4,5,6,7,8,9]\n",
    "\n",
    "    #Ask players who to play X and O\n",
    "    players_markers = set_markers()\n",
    "\n",
    "    #Display initial board\n",
    "    display_board(board)\n",
    "    \n",
    "    #Randomize first player to mark the board\n",
    "    next_player = choose_first()\n",
    "    print('Player {}, you go first!'.format(next_player))\n",
    "    \n",
    "    #Game is still on while there is an available position to fill in\n",
    "    while len(valid_positions)!= 0: \n",
    "        position,current_player,next_player = ask_position(valid_positions, next_player)\n",
    "        board = update_board(board, position, players_markers[current_player])\n",
    "        update_valid_positions(position, valid_positions)\n",
    "        display_board(board)\n",
    "\n",
    "        if check_board(board):\n",
    "            declare_result(current_player)\n",
    "            break \n",
    "\n",
    "        if len(valid_positions) == 1:\n",
    "            board = update_board(board, valid_positions[0], players_markers[next_player])\n",
    "            if check_board(board):\n",
    "                declare_result(next_player)\n",
    "                break\n",
    "            else:\n",
    "                declare_result('x', True)\n",
    "                break\n",
    "        \n",
    "    if not play_again():\n",
    "        break\n",
    "    \n",
    "        \n",
    "        \n"
   ]
  },
  {
   "cell_type": "markdown",
   "id": "350597aa",
   "metadata": {},
   "source": [
    " "
   ]
  },
  {
   "cell_type": "code",
   "execution_count": null,
   "id": "a7f968a4",
   "metadata": {},
   "outputs": [],
   "source": []
  }
 ],
 "metadata": {
  "kernelspec": {
   "display_name": "Python 3",
   "language": "python",
   "name": "python3"
  },
  "language_info": {
   "codemirror_mode": {
    "name": "ipython",
    "version": 3
   },
   "file_extension": ".py",
   "mimetype": "text/x-python",
   "name": "python",
   "nbconvert_exporter": "python",
   "pygments_lexer": "ipython3",
   "version": "3.8.8"
  }
 },
 "nbformat": 4,
 "nbformat_minor": 5
}
